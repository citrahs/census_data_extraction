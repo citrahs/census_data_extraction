{
 "cells": [
  {
   "cell_type": "markdown",
   "metadata": {},
   "source": [
    "Disclaimer : i use arcgis library to get the data"
   ]
  },
  {
   "cell_type": "code",
   "execution_count": 1,
   "metadata": {},
   "outputs": [],
   "source": [
    "import pandas as pd\n",
    "from arcgis.features import FeatureLayer\n",
    "import csv"
   ]
  },
  {
   "cell_type": "code",
   "execution_count": 2,
   "metadata": {},
   "outputs": [],
   "source": [
    "url = 'http://gis.dukcapil.kemendagri.go.id/arcgis/rest/services/2017semester1/MapServer/5'"
   ]
  },
  {
   "cell_type": "code",
   "execution_count": 3,
   "metadata": {},
   "outputs": [],
   "source": [
    "layer= FeatureLayer(url)"
   ]
  },
  {
   "cell_type": "code",
   "execution_count": 4,
   "metadata": {},
   "outputs": [
    {
     "data": {
      "text/plain": [
       "(7187, 212)"
      ]
     },
     "execution_count": 4,
     "metadata": {},
     "output_type": "execute_result"
    }
   ],
   "source": [
    "df = pd.DataFrame(layer.query().df)\n",
    "df.shape"
   ]
  },
  {
   "cell_type": "code",
   "execution_count": 5,
   "metadata": {},
   "outputs": [
    {
     "data": {
      "text/html": [
       "<div>\n",
       "<style scoped>\n",
       "    .dataframe tbody tr th:only-of-type {\n",
       "        vertical-align: middle;\n",
       "    }\n",
       "\n",
       "    .dataframe tbody tr th {\n",
       "        vertical-align: top;\n",
       "    }\n",
       "\n",
       "    .dataframe thead th {\n",
       "        text-align: right;\n",
       "    }\n",
       "</style>\n",
       "<table border=\"1\" class=\"dataframe\">\n",
       "  <thead>\n",
       "    <tr style=\"text-align: right;\">\n",
       "      <th></th>\n",
       "      <th>a</th>\n",
       "      <th>a_</th>\n",
       "      <th>a_2</th>\n",
       "      <th>ab</th>\n",
       "      <th>ab_</th>\n",
       "      <th>ab_2</th>\n",
       "      <th>agama_dan_</th>\n",
       "      <th>aparatur_p</th>\n",
       "      <th>b</th>\n",
       "      <th>b_</th>\n",
       "      <th>...</th>\n",
       "      <th>u5</th>\n",
       "      <th>u50</th>\n",
       "      <th>u55</th>\n",
       "      <th>u60</th>\n",
       "      <th>u65</th>\n",
       "      <th>u70</th>\n",
       "      <th>u75</th>\n",
       "      <th>wajib_ktp</th>\n",
       "      <th>wanita</th>\n",
       "      <th>wiraswasta</th>\n",
       "    </tr>\n",
       "    <tr>\n",
       "      <th>objectid</th>\n",
       "      <th></th>\n",
       "      <th></th>\n",
       "      <th></th>\n",
       "      <th></th>\n",
       "      <th></th>\n",
       "      <th></th>\n",
       "      <th></th>\n",
       "      <th></th>\n",
       "      <th></th>\n",
       "      <th></th>\n",
       "      <th></th>\n",
       "      <th></th>\n",
       "      <th></th>\n",
       "      <th></th>\n",
       "      <th></th>\n",
       "      <th></th>\n",
       "      <th></th>\n",
       "      <th></th>\n",
       "      <th></th>\n",
       "      <th></th>\n",
       "      <th></th>\n",
       "    </tr>\n",
       "  </thead>\n",
       "  <tbody>\n",
       "    <tr>\n",
       "      <th>1</th>\n",
       "      <td>80</td>\n",
       "      <td>0</td>\n",
       "      <td>0</td>\n",
       "      <td>23</td>\n",
       "      <td>0</td>\n",
       "      <td>1</td>\n",
       "      <td>9</td>\n",
       "      <td>226</td>\n",
       "      <td>99</td>\n",
       "      <td>0</td>\n",
       "      <td>...</td>\n",
       "      <td>477</td>\n",
       "      <td>281</td>\n",
       "      <td>208</td>\n",
       "      <td>147</td>\n",
       "      <td>76</td>\n",
       "      <td>47</td>\n",
       "      <td>60</td>\n",
       "      <td>3567</td>\n",
       "      <td>2603</td>\n",
       "      <td>530</td>\n",
       "    </tr>\n",
       "    <tr>\n",
       "      <th>2</th>\n",
       "      <td>304</td>\n",
       "      <td>1</td>\n",
       "      <td>2</td>\n",
       "      <td>88</td>\n",
       "      <td>0</td>\n",
       "      <td>4</td>\n",
       "      <td>29</td>\n",
       "      <td>707</td>\n",
       "      <td>323</td>\n",
       "      <td>4</td>\n",
       "      <td>...</td>\n",
       "      <td>2046</td>\n",
       "      <td>1204</td>\n",
       "      <td>996</td>\n",
       "      <td>687</td>\n",
       "      <td>479</td>\n",
       "      <td>281</td>\n",
       "      <td>507</td>\n",
       "      <td>16634</td>\n",
       "      <td>11560</td>\n",
       "      <td>2236</td>\n",
       "    </tr>\n",
       "    <tr>\n",
       "      <th>3</th>\n",
       "      <td>117</td>\n",
       "      <td>1</td>\n",
       "      <td>1</td>\n",
       "      <td>51</td>\n",
       "      <td>0</td>\n",
       "      <td>0</td>\n",
       "      <td>17</td>\n",
       "      <td>366</td>\n",
       "      <td>137</td>\n",
       "      <td>2</td>\n",
       "      <td>...</td>\n",
       "      <td>1084</td>\n",
       "      <td>779</td>\n",
       "      <td>605</td>\n",
       "      <td>416</td>\n",
       "      <td>313</td>\n",
       "      <td>202</td>\n",
       "      <td>298</td>\n",
       "      <td>10177</td>\n",
       "      <td>6979</td>\n",
       "      <td>1472</td>\n",
       "    </tr>\n",
       "    <tr>\n",
       "      <th>4</th>\n",
       "      <td>273</td>\n",
       "      <td>0</td>\n",
       "      <td>1</td>\n",
       "      <td>81</td>\n",
       "      <td>1</td>\n",
       "      <td>2</td>\n",
       "      <td>19</td>\n",
       "      <td>552</td>\n",
       "      <td>311</td>\n",
       "      <td>1</td>\n",
       "      <td>...</td>\n",
       "      <td>1087</td>\n",
       "      <td>755</td>\n",
       "      <td>641</td>\n",
       "      <td>464</td>\n",
       "      <td>312</td>\n",
       "      <td>253</td>\n",
       "      <td>308</td>\n",
       "      <td>9863</td>\n",
       "      <td>6752</td>\n",
       "      <td>2025</td>\n",
       "    </tr>\n",
       "    <tr>\n",
       "      <th>5</th>\n",
       "      <td>268</td>\n",
       "      <td>0</td>\n",
       "      <td>0</td>\n",
       "      <td>72</td>\n",
       "      <td>0</td>\n",
       "      <td>2</td>\n",
       "      <td>26</td>\n",
       "      <td>529</td>\n",
       "      <td>290</td>\n",
       "      <td>1</td>\n",
       "      <td>...</td>\n",
       "      <td>1716</td>\n",
       "      <td>1182</td>\n",
       "      <td>944</td>\n",
       "      <td>622</td>\n",
       "      <td>449</td>\n",
       "      <td>264</td>\n",
       "      <td>568</td>\n",
       "      <td>15433</td>\n",
       "      <td>10568</td>\n",
       "      <td>2259</td>\n",
       "    </tr>\n",
       "  </tbody>\n",
       "</table>\n",
       "<p>5 rows × 212 columns</p>\n",
       "</div>"
      ],
      "text/plain": [
       "            a  a_  a_2  ab  ab_  ab_2  agama_dan_  aparatur_p    b  b_  \\\n",
       "objectid                                                                 \n",
       "1          80   0    0  23    0     1           9         226   99   0   \n",
       "2         304   1    2  88    0     4          29         707  323   4   \n",
       "3         117   1    1  51    0     0          17         366  137   2   \n",
       "4         273   0    1  81    1     2          19         552  311   1   \n",
       "5         268   0    0  72    0     2          26         529  290   1   \n",
       "\n",
       "             ...        u5   u50  u55  u60  u65  u70  u75  wajib_ktp  wanita  \\\n",
       "objectid     ...                                                               \n",
       "1            ...       477   281  208  147   76   47   60       3567    2603   \n",
       "2            ...      2046  1204  996  687  479  281  507      16634   11560   \n",
       "3            ...      1084   779  605  416  313  202  298      10177    6979   \n",
       "4            ...      1087   755  641  464  312  253  308       9863    6752   \n",
       "5            ...      1716  1182  944  622  449  264  568      15433   10568   \n",
       "\n",
       "          wiraswasta  \n",
       "objectid              \n",
       "1                530  \n",
       "2               2236  \n",
       "3               1472  \n",
       "4               2025  \n",
       "5               2259  \n",
       "\n",
       "[5 rows x 212 columns]"
      ]
     },
     "execution_count": 5,
     "metadata": {},
     "output_type": "execute_result"
    }
   ],
   "source": [
    "df.head()"
   ]
  },
  {
   "cell_type": "markdown",
   "metadata": {},
   "source": [
    "This data have 212 features but not clean actually, so many noise, so i cut the features just i need.\n",
    "\n",
    "jumlah_pen_ is sum of population, kepadatan_ is density of population, nama_.. is description of district, province and soon.."
   ]
  },
  {
   "cell_type": "code",
   "execution_count": 6,
   "metadata": {},
   "outputs": [],
   "source": [
    "df_ = df[['jumlah_kk', 'jumlah_pen', 'kepadatan_','nama_kab_s', 'nama_kec_s', 'nama_prop_']]"
   ]
  },
  {
   "cell_type": "code",
   "execution_count": 7,
   "metadata": {},
   "outputs": [],
   "source": [
    "df_.to_csv('jml_pend_kec.csv', index=False)"
   ]
  },
  {
   "cell_type": "code",
   "execution_count": null,
   "metadata": {},
   "outputs": [],
   "source": []
  },
  {
   "cell_type": "code",
   "execution_count": null,
   "metadata": {},
   "outputs": [],
   "source": []
  }
 ],
 "metadata": {
  "kernelspec": {
   "display_name": "Python 3",
   "language": "python",
   "name": "python3"
  },
  "language_info": {
   "codemirror_mode": {
    "name": "ipython",
    "version": 3
   },
   "file_extension": ".py",
   "mimetype": "text/x-python",
   "name": "python",
   "nbconvert_exporter": "python",
   "pygments_lexer": "ipython3",
   "version": "3.6.5"
  }
 },
 "nbformat": 4,
 "nbformat_minor": 2
}
